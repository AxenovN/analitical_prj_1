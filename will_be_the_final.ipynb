{
 "cells": [
  {
   "cell_type": "markdown",
   "metadata": {},
   "source": [
    "# FINAL PROJECT"
   ]
  },
  {
   "cell_type": "markdown",
   "metadata": {},
   "source": [
    "## Karpov.Courses\n",
    "\n",
    "### Nikita Axenov"
   ]
  },
  {
   "cell_type": "markdown",
   "metadata": {},
   "source": [
    "**CONTENT**\n",
    "\n",
    "TASK 1\n",
    "\n",
    "    CONDITIONS\n",
    "    \n",
    "    SOLVATION\n",
    "        GETTING DATA\n",
    "        groups.csv - initial check\n",
    "        group_add.csv - initial check\n",
    "        active_students.csv - initial check\n",
    "        ckecks.csv - initial check\n",
    "        Summing up the initial data sets check\n",
    "        Other checkings\n",
    "            The 1st bullet - relations between data sets\n",
    "            The 2nd bullet - who \"active\" are\n",
    "        INITIAL WORK\n",
    "        EXPERIMENT RESULTS ANALYSIS\n",
    "            Calculating Convertion\n",
    "            Checking Revenues\n",
    "            Selecting a Statistical Test"
   ]
  },
  {
   "cell_type": "markdown",
   "metadata": {},
   "source": [
    "# TASK 1"
   ]
  },
  {
   "cell_type": "markdown",
   "metadata": {},
   "source": [
    "## CONDITIONS"
   ]
  },
  {
   "cell_type": "markdown",
   "metadata": {},
   "source": [
    "During a test of a hypothesis **(! don't forget to name the H0 and H1 !)**\n",
    "it was suggested to the **Test Group** to use a new site service payment mechanics.\n",
    "\n",
    "It had been left for the **Control Group** to use the basic one.\n",
    "\n",
    "Worth it or not to launch the new payment mechanics for all users?"
   ]
  },
  {
   "cell_type": "markdown",
   "metadata": {},
   "source": [
    "## SOLVATION"
   ]
  },
  {
   "cell_type": "code",
   "execution_count": 65,
   "metadata": {},
   "outputs": [],
   "source": [
    "import requests\n",
    "from urllib.parse import urlencode\n",
    "\n",
    "import pandas as pd\n",
    "import seaborn as sns\n",
    "import numpy as np\n",
    "\n",
    "from scipy.stats import kstest, shapiro, t, norm, mannwhitneyu\n",
    "import matplotlib.pyplot as plt\n",
    "from tqdm.auto import tqdm\n",
    "\n",
    "plt.style.use('ggplot')"
   ]
  },
  {
   "cell_type": "markdown",
   "metadata": {},
   "source": [
    "### GETTING DATA"
   ]
  },
  {
   "cell_type": "markdown",
   "metadata": {},
   "source": [
    "First of all, collect suggested data."
   ]
  },
  {
   "cell_type": "code",
   "execution_count": 2,
   "metadata": {},
   "outputs": [],
   "source": [
    "# we have public links\n",
    "groups = 'https://disk.yandex.ru/d/kMrULQ9QCD7-CQ'\n",
    "group_add = 'https://disk.yandex.ru/d/TCBybqETWA8f5Q'\n",
    "active_students = 'https://disk.yandex.ru/d/p2vilpAQAjrfMQ'\n",
    "checks = 'https://disk.yandex.ru/d/8Au59cjThCOLCQ'"
   ]
  },
  {
   "cell_type": "code",
   "execution_count": 3,
   "metadata": {},
   "outputs": [],
   "source": [
    "# url to download files via Yandex API\n",
    "base_url = 'https://cloud-api.yandex.net/v1/disk/public/resources/download'"
   ]
  },
  {
   "cell_type": "code",
   "execution_count": 4,
   "metadata": {},
   "outputs": [],
   "source": [
    "# 1st file to download - groups.csv\n",
    "public_key = groups  # public link \n",
    "\n",
    "# get an url to download a file\n",
    "response_url = f'{base_url}?public_key={public_key}'\n",
    "the_response = requests.get(response_url)\n",
    "loading_link = the_response.json()['href']\n",
    "\n",
    "# download a file and save it\n",
    "loaded_response = requests.get(loading_link)\n",
    "with open('groups.csv', 'wb') as f:\n",
    "    f.write(loaded_response.content)"
   ]
  },
  {
   "cell_type": "code",
   "execution_count": 5,
   "metadata": {},
   "outputs": [],
   "source": [
    "# group_add.csv - 2nd to go\n",
    "public_key = group_add  # public link \n",
    "\n",
    "# get an url to download a file\n",
    "response_url = f'{base_url}?public_key={public_key}'\n",
    "the_response = requests.get(response_url)\n",
    "loading_link = the_response.json()['href']\n",
    "\n",
    "# download a file and save it\n",
    "loaded_response = requests.get(loading_link)\n",
    "with open('group_add.csv', 'wb') as f:\n",
    "    f.write(loaded_response.content)"
   ]
  },
  {
   "cell_type": "code",
   "execution_count": 6,
   "metadata": {},
   "outputs": [],
   "source": [
    "# active_students.csv downloading\n",
    "public_key = active_students  # public link \n",
    "\n",
    "# get an url to download a file\n",
    "response_url = f'{base_url}?public_key={public_key}'\n",
    "the_response = requests.get(response_url)\n",
    "loading_link = the_response.json()['href']\n",
    "\n",
    "# download a file and save it\n",
    "loaded_response = requests.get(loading_link)\n",
    "with open('active_students.csv', 'wb') as f:\n",
    "    f.write(loaded_response.content)"
   ]
  },
  {
   "cell_type": "code",
   "execution_count": 7,
   "metadata": {},
   "outputs": [],
   "source": [
    "# and the last one - checks.csv\n",
    "public_key = checks  # public link \n",
    "\n",
    "# get an url to download a file\n",
    "response_url = f'{base_url}?public_key={public_key}'\n",
    "the_response = requests.get(response_url)\n",
    "loading_link = the_response.json()['href']\n",
    "\n",
    "# download a file and save it\n",
    "loaded_response = requests.get(loading_link)\n",
    "with open('checks.csv', 'wb') as f:\n",
    "    f.write(loaded_response.content)"
   ]
  },
  {
   "cell_type": "code",
   "execution_count": 8,
   "metadata": {},
   "outputs": [],
   "source": [
    "# read the files\n",
    "groups = pd.read_csv('groups.csv', sep=';')\n",
    "group_add = pd.read_csv('group_add.csv')\n",
    "active_students = pd.read_csv('active_students.csv')\n",
    "checks = pd.read_csv('checks.csv', sep=';')  # revenues on experiment days"
   ]
  },
  {
   "cell_type": "markdown",
   "metadata": {},
   "source": [
    "Now, let's look at the present (initial) data sets."
   ]
  },
  {
   "cell_type": "markdown",
   "metadata": {},
   "source": [
    "### groups.csv - initial check"
   ]
  },
  {
   "cell_type": "code",
   "execution_count": 9,
   "metadata": {
    "scrolled": true
   },
   "outputs": [
    {
     "data": {
      "text/html": [
       "<div>\n",
       "<style scoped>\n",
       "    .dataframe tbody tr th:only-of-type {\n",
       "        vertical-align: middle;\n",
       "    }\n",
       "\n",
       "    .dataframe tbody tr th {\n",
       "        vertical-align: top;\n",
       "    }\n",
       "\n",
       "    .dataframe thead th {\n",
       "        text-align: right;\n",
       "    }\n",
       "</style>\n",
       "<table border=\"1\" class=\"dataframe\">\n",
       "  <thead>\n",
       "    <tr style=\"text-align: right;\">\n",
       "      <th></th>\n",
       "      <th>id</th>\n",
       "      <th>grp</th>\n",
       "    </tr>\n",
       "  </thead>\n",
       "  <tbody>\n",
       "    <tr>\n",
       "      <th>0</th>\n",
       "      <td>1489</td>\n",
       "      <td>B</td>\n",
       "    </tr>\n",
       "    <tr>\n",
       "      <th>1</th>\n",
       "      <td>1627</td>\n",
       "      <td>A</td>\n",
       "    </tr>\n",
       "    <tr>\n",
       "      <th>2</th>\n",
       "      <td>1768</td>\n",
       "      <td>B</td>\n",
       "    </tr>\n",
       "  </tbody>\n",
       "</table>\n",
       "</div>"
      ],
      "text/plain": [
       "     id grp\n",
       "0  1489   B\n",
       "1  1627   A\n",
       "2  1768   B"
      ]
     },
     "execution_count": 9,
     "metadata": {},
     "output_type": "execute_result"
    }
   ],
   "source": [
    "groups.head(3)  # A - the control group, B - the test one"
   ]
  },
  {
   "cell_type": "code",
   "execution_count": 10,
   "metadata": {
    "scrolled": true
   },
   "outputs": [
    {
     "name": "stdout",
     "output_type": "stream",
     "text": [
      "groups.csv initially has <74484> lines\n",
      "<100.0%> lines of them are unique by \"id\"\n",
      "MAX id is <5694419>; min is <1489> (the <int64> type)\n",
      "\n",
      "<grp> column has <2> unique values: ['B' 'A'], - the <object> type\n"
     ]
    }
   ],
   "source": [
    "print(f'groups.csv initially has <{groups.shape[0]}> lines')\n",
    "print(f'<{groups.id.nunique()/groups.shape[0]*100}%> lines of them are unique by \"id\"')\n",
    "print(f'MAX id is <{groups.id.max()}>; min is <{groups.id.min()}> (the <{groups.id.dtype}> type)\\n')\n",
    "\n",
    "print(f'<{groups.columns[1]}> column has <{groups.grp.nunique()}> unique values: \\\n",
    "{groups.grp.unique()}, - the <{groups.dtypes[1]}> type')"
   ]
  },
  {
   "cell_type": "code",
   "execution_count": 11,
   "metadata": {},
   "outputs": [
    {
     "name": "stdout",
     "output_type": "stream",
     "text": [
      "groups.csv includes:\n",
      "- <14671> (20%) users are in the control group\n",
      "- <59813> (80%) users are in the test group\n"
     ]
    }
   ],
   "source": [
    "print('groups.csv includes:')\n",
    "\n",
    "groups_A_only = groups.query(\"grp == 'A'\")\n",
    "print(f'- <{groups_A_only.id.count()}> ({round(groups_A_only.id.count()/groups.shape[0]*100)}%) users \\\n",
    "are in the control group')  # .nunique() gives the same res (100% IDs are unique - see the cell above)\n",
    "\n",
    "groups_B_only = groups.query(\"grp == 'B'\")\n",
    "print(f'- <{groups_B_only.id.count()}> ({round(groups_B_only.id.count()/groups.shape[0]*100)}%) users \\\n",
    "are in the test group')  # .nunique() gives the same res (100% IDs are unique - see the cell above)"
   ]
  },
  {
   "cell_type": "markdown",
   "metadata": {},
   "source": [
    "### group_add.csv - initial check"
   ]
  },
  {
   "cell_type": "code",
   "execution_count": 12,
   "metadata": {},
   "outputs": [
    {
     "data": {
      "text/html": [
       "<div>\n",
       "<style scoped>\n",
       "    .dataframe tbody tr th:only-of-type {\n",
       "        vertical-align: middle;\n",
       "    }\n",
       "\n",
       "    .dataframe tbody tr th {\n",
       "        vertical-align: top;\n",
       "    }\n",
       "\n",
       "    .dataframe thead th {\n",
       "        text-align: right;\n",
       "    }\n",
       "</style>\n",
       "<table border=\"1\" class=\"dataframe\">\n",
       "  <thead>\n",
       "    <tr style=\"text-align: right;\">\n",
       "      <th></th>\n",
       "      <th>id</th>\n",
       "      <th>grp</th>\n",
       "    </tr>\n",
       "  </thead>\n",
       "  <tbody>\n",
       "    <tr>\n",
       "      <th>0</th>\n",
       "      <td>5694584</td>\n",
       "      <td>B</td>\n",
       "    </tr>\n",
       "    <tr>\n",
       "      <th>1</th>\n",
       "      <td>5694830</td>\n",
       "      <td>B</td>\n",
       "    </tr>\n",
       "    <tr>\n",
       "      <th>2</th>\n",
       "      <td>5695057</td>\n",
       "      <td>B</td>\n",
       "    </tr>\n",
       "  </tbody>\n",
       "</table>\n",
       "</div>"
      ],
      "text/plain": [
       "        id grp\n",
       "0  5694584   B\n",
       "1  5694830   B\n",
       "2  5695057   B"
      ]
     },
     "execution_count": 12,
     "metadata": {},
     "output_type": "execute_result"
    }
   ],
   "source": [
    "group_add.head(3)  # extra data set \"in 2 days\""
   ]
  },
  {
   "cell_type": "code",
   "execution_count": 13,
   "metadata": {
    "scrolled": false
   },
   "outputs": [
    {
     "name": "stdout",
     "output_type": "stream",
     "text": [
      "group_add.csv initially has <92> lines\n",
      "<100.0%> lines of them are unique by \"id\"\n",
      "MAX id is <201067659>; min is <5694584> (the <int64> type)\n",
      "\n",
      "<grp> column has <2> unique values: ['B' 'A'], - the <object> type\n"
     ]
    }
   ],
   "source": [
    "print(f'group_add.csv initially has <{group_add.shape[0]}> lines')\n",
    "print(f'<{group_add.id.nunique()/group_add.shape[0]*100}%> lines of them are unique by \"id\"')\n",
    "# print(f'And <{len(set(groups.id) and set(group_add.id))}> (all) of them are encountered in groups.csv')\n",
    "print(f'MAX id is <{group_add.id.max()}>; min is <{group_add.id.min()}> (the <{group_add.id.dtype}> type)\\n')\n",
    "\n",
    "print(f'<{group_add.columns[1]}> column has <{group_add.grp.nunique()}> unique values: \\\n",
    "{group_add.grp.unique()}, - the <{group_add.dtypes[1]}> type')"
   ]
  },
  {
   "cell_type": "code",
   "execution_count": 14,
   "metadata": {},
   "outputs": [
    {
     "name": "stdout",
     "output_type": "stream",
     "text": [
      "GROUP_ADD.CSV includes:\n",
      "- <22> (24%) users are in the control group\n",
      "- <70> (76%) users are in the test group\n"
     ]
    }
   ],
   "source": [
    "print('GROUP_ADD.CSV includes:')\n",
    "\n",
    "group_add_A_only = group_add.query(\"grp == 'A'\")\n",
    "print(f'- <{group_add_A_only.id.count()}> ({round(group_add_A_only.id.count()/group_add.shape[0]*100)}%) users \\\n",
    "are in the control group')  # .nunique() gives the same res (100% IDs are unique - see the cell above)\n",
    "\n",
    "group_add_B_only = group_add.query(\"grp == 'B'\")\n",
    "print(f'- <{group_add_B_only.id.count()}> ({round(group_add_B_only.id.count()/group_add.shape[0]*100)}%) users \\\n",
    "are in the test group')  # .nunique() gives the same res (100% IDs are unique - see the cell above)"
   ]
  },
  {
   "cell_type": "markdown",
   "metadata": {},
   "source": [
    "### active_students.csv - initial check"
   ]
  },
  {
   "cell_type": "code",
   "execution_count": 15,
   "metadata": {},
   "outputs": [
    {
     "data": {
      "text/html": [
       "<div>\n",
       "<style scoped>\n",
       "    .dataframe tbody tr th:only-of-type {\n",
       "        vertical-align: middle;\n",
       "    }\n",
       "\n",
       "    .dataframe tbody tr th {\n",
       "        vertical-align: top;\n",
       "    }\n",
       "\n",
       "    .dataframe thead th {\n",
       "        text-align: right;\n",
       "    }\n",
       "</style>\n",
       "<table border=\"1\" class=\"dataframe\">\n",
       "  <thead>\n",
       "    <tr style=\"text-align: right;\">\n",
       "      <th></th>\n",
       "      <th>student_id</th>\n",
       "    </tr>\n",
       "  </thead>\n",
       "  <tbody>\n",
       "    <tr>\n",
       "      <th>0</th>\n",
       "      <td>581585</td>\n",
       "    </tr>\n",
       "    <tr>\n",
       "      <th>1</th>\n",
       "      <td>5723133</td>\n",
       "    </tr>\n",
       "    <tr>\n",
       "      <th>2</th>\n",
       "      <td>3276743</td>\n",
       "    </tr>\n",
       "  </tbody>\n",
       "</table>\n",
       "</div>"
      ],
      "text/plain": [
       "   student_id\n",
       "0      581585\n",
       "1     5723133\n",
       "2     3276743"
      ]
     },
     "execution_count": 15,
     "metadata": {},
     "output_type": "execute_result"
    }
   ],
   "source": [
    "active_students.head(3)  # those who entered on experiment days"
   ]
  },
  {
   "cell_type": "code",
   "execution_count": 16,
   "metadata": {},
   "outputs": [
    {
     "name": "stdout",
     "output_type": "stream",
     "text": [
      "active_students.csv initially has <8341> lines\n",
      "<100.0%> lines of them are unique by \"id\"\n",
      "MAX id is <5951797>; min is <1627> (the <int64> type)\n"
     ]
    }
   ],
   "source": [
    "print(f'active_students.csv initially has <{active_students.shape[0]}> lines')\n",
    "print(f'<{active_students.student_id.nunique()/active_students.shape[0]*100}%> lines of them are unique by \"id\"')\n",
    "# print(f'And <{len(set(groups.id) and set(active_students.student_id))}> (all) of them are encountered in groups.csv')\n",
    "print(f'MAX id is <{active_students.student_id.max()}>; \\\n",
    "min is <{active_students.student_id.min()}> (the <{active_students.student_id.dtype}> type)')"
   ]
  },
  {
   "cell_type": "markdown",
   "metadata": {},
   "source": [
    "### checks.csv - initial check"
   ]
  },
  {
   "cell_type": "code",
   "execution_count": 17,
   "metadata": {},
   "outputs": [
    {
     "data": {
      "text/html": [
       "<div>\n",
       "<style scoped>\n",
       "    .dataframe tbody tr th:only-of-type {\n",
       "        vertical-align: middle;\n",
       "    }\n",
       "\n",
       "    .dataframe tbody tr th {\n",
       "        vertical-align: top;\n",
       "    }\n",
       "\n",
       "    .dataframe thead th {\n",
       "        text-align: right;\n",
       "    }\n",
       "</style>\n",
       "<table border=\"1\" class=\"dataframe\">\n",
       "  <thead>\n",
       "    <tr style=\"text-align: right;\">\n",
       "      <th></th>\n",
       "      <th>student_id</th>\n",
       "      <th>rev</th>\n",
       "    </tr>\n",
       "  </thead>\n",
       "  <tbody>\n",
       "    <tr>\n",
       "      <th>0</th>\n",
       "      <td>1627</td>\n",
       "      <td>990.0</td>\n",
       "    </tr>\n",
       "    <tr>\n",
       "      <th>1</th>\n",
       "      <td>3185</td>\n",
       "      <td>690.0</td>\n",
       "    </tr>\n",
       "    <tr>\n",
       "      <th>2</th>\n",
       "      <td>25973</td>\n",
       "      <td>690.0</td>\n",
       "    </tr>\n",
       "  </tbody>\n",
       "</table>\n",
       "</div>"
      ],
      "text/plain": [
       "   student_id    rev\n",
       "0        1627  990.0\n",
       "1        3185  690.0\n",
       "2       25973  690.0"
      ]
     },
     "execution_count": 17,
     "metadata": {},
     "output_type": "execute_result"
    }
   ],
   "source": [
    "checks.head(3)"
   ]
  },
  {
   "cell_type": "code",
   "execution_count": 18,
   "metadata": {
    "scrolled": true
   },
   "outputs": [
    {
     "name": "stdout",
     "output_type": "stream",
     "text": [
      "checks.csv initially has <541> lines\n",
      "<100.0%> lines of them are unique by \"id\"\n",
      "MAX id is <5740903>; min is <1627> (the <int64> type)\n",
      "\n",
      "<rev> column has MAX revenue: <4650.0>, - and min value: <199.0>, - the <float64> type\n"
     ]
    }
   ],
   "source": [
    "print(f'checks.csv initially has <{checks.shape[0]}> lines')\n",
    "print(f'<{checks.student_id.nunique()/checks.shape[0]*100}%> lines of them are unique by \"id\"')\n",
    "# print(f'And <{len(set(groups.id) and set(checks.student_id))}> (all) of them are encountered in groups.csv')\n",
    "print(f'MAX id is <{checks.student_id.max()}>; \\\n",
    "min is <{checks.student_id.min()}> (the <{checks.student_id.dtype}> type)\\n')\n",
    "\n",
    "print(f'<{checks.columns[1]}> column has MAX revenue: <{checks.rev.max()}>, - \\\n",
    "and min value: <{checks.rev.min()}>, - the <{checks.dtypes[1]}> type')"
   ]
  },
  {
   "cell_type": "markdown",
   "metadata": {},
   "source": [
    "### Summing up the initial data sets check"
   ]
  },
  {
   "cell_type": "markdown",
   "metadata": {},
   "source": [
    "We have such data:\n",
    "\n",
    "- Clients IDs as the control group, as the test one;\n",
    "- IDs of those clients who had entered in our education platform while experiment days;\n",
    "- Revenues by each client while experiment days."
   ]
  },
  {
   "cell_type": "markdown",
   "metadata": {},
   "source": [
    "### Other checkings"
   ]
  },
  {
   "cell_type": "markdown",
   "metadata": {},
   "source": [
    "I'd like to check the following at once:\n",
    "\n",
    "- ~~What kind of & How many encountered issues can be found if we compare IDs in all 4 data sets? (Encountered issues between GROUPS & GROUPS_ADD / ACTIVE_STUDENTS & all GROUPS / CHECKS & all GROUPS)~~\n",
    "- ~~Are there any user (ID) that paid (CHECKS) but didn't enter the platform (by condition - ACTIVE_STUDENTS)? If any, then payment may be accomplished without entering the platform, and \"active\" users are just those who were using the education platform itself.~~"
   ]
  },
  {
   "cell_type": "markdown",
   "metadata": {},
   "source": [
    "#### The 1st bullet - relations between data sets"
   ]
  },
  {
   "cell_type": "markdown",
   "metadata": {},
   "source": [
    "**Firstly**, check IDs between GROUPS & GROUPS_ADD:"
   ]
  },
  {
   "cell_type": "code",
   "execution_count": 19,
   "metadata": {},
   "outputs": [
    {
     "name": "stdout",
     "output_type": "stream",
     "text": [
      "There are <0> encountered issues between GROUPS & GROUPS_ADD by 'id' column\n"
     ]
    }
   ],
   "source": [
    "k = 0\n",
    "for i in group_add.id:\n",
    "    for j in groups.id:\n",
    "        if i == j:\n",
    "            k += 1\n",
    "print(f'There are <{k}> encountered issues between GROUPS & GROUPS_ADD by \\'id\\' column')"
   ]
  },
  {
   "cell_type": "markdown",
   "metadata": {},
   "source": [
    "<0> encountered issues signifies that there is no any problem with these two data sets.\n",
    "\n",
    "(We could, e.g., find one or more similar IDs in both data sets, but values for \\<grp\\> column - different. That would be a conflict.)"
   ]
  },
  {
   "cell_type": "markdown",
   "metadata": {},
   "source": [
    "**Secondly**, answer the question: \"Are there any user from ACTIVE_STUDENTS who doesn't encounter in GROUPS and GROUP_ADD?\""
   ]
  },
  {
   "cell_type": "code",
   "execution_count": 20,
   "metadata": {},
   "outputs": [
    {
     "data": {
      "text/plain": [
       "True"
      ]
     },
     "execution_count": 20,
     "metadata": {},
     "output_type": "execute_result"
    }
   ],
   "source": [
    "# get Series of all IDs in both: GROUPS and GROUPS_ADD\n",
    "all_id = pd.concat([groups.id, group_add.id], ignore_index=True)\n",
    "all_id.shape[0] == groups.id.shape[0] + group_add.id.shape[0]  # correction check"
   ]
  },
  {
   "cell_type": "code",
   "execution_count": 21,
   "metadata": {},
   "outputs": [
    {
     "name": "stdout",
     "output_type": "stream",
     "text": [
      "There are <8341> (100.0%) ACTIVE_STUDENT's IDs which are encountered among GROUPS's & GROUPS_ADD's IDs:\n",
      "\t<8328> of them encounter in GROUPS's IDs;\n",
      "\t<13> of them - in GROUPS_ADD's IDs.\n"
     ]
    }
   ],
   "source": [
    "k = len(set(active_students.student_id) & set(all_id))\n",
    "print(f'There are <{k}> ({k/active_students.student_id.shape[0]*100}%) ACTIVE_STUDENT\\'s IDs \\\n",
    "which are encountered among GROUPS\\'s & GROUPS_ADD\\'s IDs:')\n",
    "print(f'\\t<{len(set(active_students.student_id) & set(groups.id))}> of them encounter in GROUPS\\'s IDs;')\n",
    "print(f'\\t<{len(set(active_students.student_id) & set(group_add.id))}> of them - in GROUPS_ADD\\'s IDs.')"
   ]
  },
  {
   "cell_type": "markdown",
   "metadata": {},
   "source": [
    "<100.0%> of such encountered IDs signifies that there is no any user in ACTIVE_STUDENTS who erroneously was added into the data set, and all the active users are determined to the corresponding groups: test or control one."
   ]
  },
  {
   "cell_type": "markdown",
   "metadata": {},
   "source": [
    "**Thirdly**, the last question pertinent to the bullet we check: \"Are there any user from CHECKS who doesn't encounter in GROUPS and GROUP_ADD?\"\n",
    "\n",
    "(Yes, it's similar to the previous question. And check almost the same.)"
   ]
  },
  {
   "cell_type": "code",
   "execution_count": 22,
   "metadata": {
    "scrolled": true
   },
   "outputs": [
    {
     "name": "stdout",
     "output_type": "stream",
     "text": [
      "There are <541> (100.0%) CHECKS's IDs which are encountered among GROUPS's & GROUPS_ADD's IDs:\n",
      "\t<540> of them encounter in GROUPS's IDs;\n",
      "\t<1> of them - in GROUPS_ADD's IDs.\n"
     ]
    }
   ],
   "source": [
    "k = len(set(checks.student_id) & set(all_id))\n",
    "print(f'There are <{k}> ({k/checks.student_id.shape[0]*100}%) CHECKS\\'s IDs \\\n",
    "which are encountered among GROUPS\\'s & GROUPS_ADD\\'s IDs:')\n",
    "print(f'\\t<{len(set(checks.student_id) & set(groups.id))}> of them encounter in GROUPS\\'s IDs;')\n",
    "print(f'\\t<{len(set(checks.student_id) & set(group_add.id))}> of them - in GROUPS_ADD\\'s IDs.')"
   ]
  },
  {
   "cell_type": "markdown",
   "metadata": {},
   "source": [
    "<100.0%> of such encountered IDs signifies that there is no any paying user who erroneously was added into the data set, and all the paying users are determined to the corresponding groups: test or control one."
   ]
  },
  {
   "cell_type": "markdown",
   "metadata": {},
   "source": [
    "<u>1st bullet</u> (in \"I'd like to check\" list) is <u>accomplished</u>. Now we can cross it out and go to the next one."
   ]
  },
  {
   "cell_type": "markdown",
   "metadata": {},
   "source": [
    "#### The 2nd bullet - who \"active\" are"
   ]
  },
  {
   "cell_type": "markdown",
   "metadata": {},
   "source": [
    "We should compare IDs in CHECKS and ACTIVE_STUDENTS"
   ]
  },
  {
   "cell_type": "code",
   "execution_count": 23,
   "metadata": {},
   "outputs": [
    {
     "name": "stdout",
     "output_type": "stream",
     "text": [
      "There are <149> users (28% of CHECKS) who paid while experiment days but didn't enter the platform\n"
     ]
    }
   ],
   "source": [
    "k = len(set(checks.student_id) - set(active_students.student_id))\n",
    "print(f'There are <{k}> users ({round(k/checks.student_id.shape[0]*100)}% of CHECKS) \\\n",
    "who paid while experiment days but didn\\'t enter the platform')"
   ]
  },
  {
   "cell_type": "markdown",
   "metadata": {},
   "source": [
    "As we mentioned above: If any <i>(and we have <149>)</i>, then \n",
    "- payment may be accomplished without entering the platform, \n",
    "- and \"active\" users are just those who were using the education platform itself,\n",
    "\n",
    "but also\n",
    "- <u>payment process doesn't require entering the platform</u>."
   ]
  },
  {
   "cell_type": "markdown",
   "metadata": {},
   "source": [
    "<i>(the points above were not stipulated in the task; that's why they should be and they are checked)</i>"
   ]
  },
  {
   "cell_type": "markdown",
   "metadata": {},
   "source": [
    "<u>2nd bullet</u> is <u>accomplished</u>: crossing it out and proceeding to the following work."
   ]
  },
  {
   "cell_type": "markdown",
   "metadata": {},
   "source": [
    "### INITIAL WORK"
   ]
  },
  {
   "cell_type": "markdown",
   "metadata": {},
   "source": [
    "Create a total data frame for all 4 data sets and then look at descriptive statistics."
   ]
  },
  {
   "cell_type": "code",
   "execution_count": 24,
   "metadata": {},
   "outputs": [],
   "source": [
    "# concatenate GROUPS and GROUP_ADD data sets\n",
    "total = pd.concat([groups, group_add], axis=0, ignore_index=True).rename(columns={'id': 'student_id'})"
   ]
  },
  {
   "cell_type": "code",
   "execution_count": 25,
   "metadata": {},
   "outputs": [],
   "source": [
    "# join TOTAL and ACTIVE_STUDENTS\n",
    "active_students['active'] = True\n",
    "total = total.merge(active_students, on='student_id', how='left').fillna(False)"
   ]
  },
  {
   "cell_type": "code",
   "execution_count": 26,
   "metadata": {
    "scrolled": true
   },
   "outputs": [
    {
     "data": {
      "text/html": [
       "<div>\n",
       "<style scoped>\n",
       "    .dataframe tbody tr th:only-of-type {\n",
       "        vertical-align: middle;\n",
       "    }\n",
       "\n",
       "    .dataframe tbody tr th {\n",
       "        vertical-align: top;\n",
       "    }\n",
       "\n",
       "    .dataframe thead th {\n",
       "        text-align: right;\n",
       "    }\n",
       "</style>\n",
       "<table border=\"1\" class=\"dataframe\">\n",
       "  <thead>\n",
       "    <tr style=\"text-align: right;\">\n",
       "      <th></th>\n",
       "      <th>student_id</th>\n",
       "      <th>grp</th>\n",
       "      <th>active</th>\n",
       "    </tr>\n",
       "  </thead>\n",
       "  <tbody>\n",
       "    <tr>\n",
       "      <th>0</th>\n",
       "      <td>1489</td>\n",
       "      <td>B</td>\n",
       "      <td>False</td>\n",
       "    </tr>\n",
       "    <tr>\n",
       "      <th>1</th>\n",
       "      <td>1627</td>\n",
       "      <td>A</td>\n",
       "      <td>True</td>\n",
       "    </tr>\n",
       "    <tr>\n",
       "      <th>2</th>\n",
       "      <td>1768</td>\n",
       "      <td>B</td>\n",
       "      <td>False</td>\n",
       "    </tr>\n",
       "  </tbody>\n",
       "</table>\n",
       "</div>"
      ],
      "text/plain": [
       "   student_id grp  active\n",
       "0        1489   B   False\n",
       "1        1627   A    True\n",
       "2        1768   B   False"
      ]
     },
     "execution_count": 26,
     "metadata": {},
     "output_type": "execute_result"
    }
   ],
   "source": [
    "total.head(3)"
   ]
  },
  {
   "cell_type": "code",
   "execution_count": 27,
   "metadata": {},
   "outputs": [],
   "source": [
    "# join TOTAL and ACTIVE_STUDENTS\n",
    "total = total.merge(checks, on='student_id', how='left').fillna(0)"
   ]
  },
  {
   "cell_type": "code",
   "execution_count": 28,
   "metadata": {
    "scrolled": false
   },
   "outputs": [
    {
     "data": {
      "text/html": [
       "<div>\n",
       "<style scoped>\n",
       "    .dataframe tbody tr th:only-of-type {\n",
       "        vertical-align: middle;\n",
       "    }\n",
       "\n",
       "    .dataframe tbody tr th {\n",
       "        vertical-align: top;\n",
       "    }\n",
       "\n",
       "    .dataframe thead th {\n",
       "        text-align: right;\n",
       "    }\n",
       "</style>\n",
       "<table border=\"1\" class=\"dataframe\">\n",
       "  <thead>\n",
       "    <tr style=\"text-align: right;\">\n",
       "      <th></th>\n",
       "      <th>student_id</th>\n",
       "      <th>grp</th>\n",
       "      <th>active</th>\n",
       "      <th>rev</th>\n",
       "    </tr>\n",
       "  </thead>\n",
       "  <tbody>\n",
       "    <tr>\n",
       "      <th>0</th>\n",
       "      <td>1489</td>\n",
       "      <td>B</td>\n",
       "      <td>False</td>\n",
       "      <td>0.0</td>\n",
       "    </tr>\n",
       "    <tr>\n",
       "      <th>1</th>\n",
       "      <td>1627</td>\n",
       "      <td>A</td>\n",
       "      <td>True</td>\n",
       "      <td>990.0</td>\n",
       "    </tr>\n",
       "    <tr>\n",
       "      <th>2</th>\n",
       "      <td>1768</td>\n",
       "      <td>B</td>\n",
       "      <td>False</td>\n",
       "      <td>0.0</td>\n",
       "    </tr>\n",
       "  </tbody>\n",
       "</table>\n",
       "</div>"
      ],
      "text/plain": [
       "   student_id grp  active    rev\n",
       "0        1489   B   False    0.0\n",
       "1        1627   A    True  990.0\n",
       "2        1768   B   False    0.0"
      ]
     },
     "execution_count": 28,
     "metadata": {},
     "output_type": "execute_result"
    }
   ],
   "source": [
    "total.head(3)"
   ]
  },
  {
   "cell_type": "markdown",
   "metadata": {},
   "source": [
    "Look at shares of each group."
   ]
  },
  {
   "cell_type": "code",
   "execution_count": 29,
   "metadata": {},
   "outputs": [
    {
     "name": "stdout",
     "output_type": "stream",
     "text": [
      "Control group:\t<14693> (20%)\n",
      "Test gtoup:\t<59883> (80%)\n"
     ]
    }
   ],
   "source": [
    "# A - the control group, B - the test one\n",
    "control_grp = total.query(\"grp == 'A'\")\n",
    "test_grp = total.query(\"grp == 'B'\")\n",
    "print(f'Control group:\\t<{control_grp.shape[0]}> ({round(control_grp.shape[0]/total.shape[0]*100)}%)')\n",
    "print(f'Test gtoup:\\t<{test_grp.shape[0]}> ({round(test_grp.shape[0]/total.shape[0]*100)}%)')"
   ]
  },
  {
   "cell_type": "markdown",
   "metadata": {},
   "source": [
    "Look at descriptive statistics of each group."
   ]
  },
  {
   "cell_type": "code",
   "execution_count": 30,
   "metadata": {
    "scrolled": false
   },
   "outputs": [
    {
     "data": {
      "text/plain": [
       "count    14693.000000\n",
       "mean         6.268019\n",
       "std        100.790849\n",
       "min          0.000000\n",
       "25%          0.000000\n",
       "50%          0.000000\n",
       "75%          0.000000\n",
       "max       3660.000000\n",
       "Name: rev, dtype: float64"
      ]
     },
     "execution_count": 30,
     "metadata": {},
     "output_type": "execute_result"
    }
   ],
   "source": [
    "'''for all users\n",
    "in control group'''\n",
    "control_grp.rev.describe()"
   ]
  },
  {
   "cell_type": "code",
   "execution_count": 31,
   "metadata": {
    "scrolled": false
   },
   "outputs": [
    {
     "data": {
      "text/plain": [
       "count    59883.000000\n",
       "mean         8.036171\n",
       "std        113.249998\n",
       "min          0.000000\n",
       "25%          0.000000\n",
       "50%          0.000000\n",
       "75%          0.000000\n",
       "max       4650.000000\n",
       "Name: rev, dtype: float64"
      ]
     },
     "execution_count": 31,
     "metadata": {},
     "output_type": "execute_result"
    }
   ],
   "source": [
    "'''for all users\n",
    "in test group'''\n",
    "test_grp.rev.describe()"
   ]
  },
  {
   "cell_type": "markdown",
   "metadata": {},
   "source": [
    "Looking at Descriptive Statistics **for all users** (paying and not), yes, we can say test's mean is <u>a bit higher</u> than control's mean, and test's sample became <u>less homogeneous</u> (std: +13) than control's sample, but these don't say anything concrete."
   ]
  },
  {
   "cell_type": "code",
   "execution_count": 32,
   "metadata": {
    "scrolled": false
   },
   "outputs": [
    {
     "data": {
      "text/plain": [
       "count     107.000000\n",
       "mean      860.710280\n",
       "std       815.893445\n",
       "min       199.000000\n",
       "25%       290.000000\n",
       "50%       690.000000\n",
       "75%       990.000000\n",
       "max      3660.000000\n",
       "Name: rev, dtype: float64"
      ]
     },
     "execution_count": 32,
     "metadata": {},
     "output_type": "execute_result"
    }
   ],
   "source": [
    "'''for paying users\n",
    "in control group'''\n",
    "control_grp.query(\"rev != 0\").rev.describe()"
   ]
  },
  {
   "cell_type": "code",
   "execution_count": 33,
   "metadata": {
    "scrolled": true
   },
   "outputs": [
    {
     "data": {
      "text/plain": [
       "count     434.000000\n",
       "mean     1108.824893\n",
       "std       741.834304\n",
       "min       199.000000\n",
       "25%       420.750000\n",
       "50%       935.000000\n",
       "75%      1900.000000\n",
       "max      4650.000000\n",
       "Name: rev, dtype: float64"
      ]
     },
     "execution_count": 33,
     "metadata": {},
     "output_type": "execute_result"
    }
   ],
   "source": [
    "'''for paying users\n",
    "in control group'''\n",
    "test_grp.query(\"rev != 0\").rev.describe()"
   ]
  },
  {
   "cell_type": "markdown",
   "metadata": {},
   "source": [
    "Studying of Descriptive Statistics **for paying users** only is showing as growth of mean as increased homogeneity (comparing test group with control one), but these still don't say anything concrete."
   ]
  },
  {
   "cell_type": "markdown",
   "metadata": {},
   "source": [
    "To answer the main question of the Task:\n",
    "> \"Worth it or not to launch the new payment mechanics for all users?\", -\n",
    "\n",
    "we should do the following:\n",
    "- Calculate Conversion for each group (maybe it decreased after new mechanics),\n",
    "- Take a test to understand is there a statistically significant difference between mean values of test's / control's revenue or not,\n",
    "    - H0: There is no a statistically significant difference between two samples,\n",
    "    - H1: There is such a difference,\n",
    "- Make a conclusion on the Question.\n"
   ]
  },
  {
   "cell_type": "markdown",
   "metadata": {},
   "source": [
    "All the Initial work is done. Now we have Experiment terms, cleared enough, and Data which we can analyse!"
   ]
  },
  {
   "cell_type": "markdown",
   "metadata": {},
   "source": [
    "### EXPERIMENT RESULTS ANALYSIS"
   ]
  },
  {
   "cell_type": "markdown",
   "metadata": {},
   "source": [
    "#### Calculating Convertions"
   ]
  },
  {
   "cell_type": "code",
   "execution_count": 34,
   "metadata": {},
   "outputs": [
    {
     "name": "stdout",
     "output_type": "stream",
     "text": [
      "Conversion in control group: <0.73%>\n",
      "Conversion in test group: <0.72%>\n",
      "Delta: <-0.01%> (abs) or <-1.37%%> (rel) - We can compare this metric in this way, so, as we see, Conversion slightly decreased after changes.\n"
     ]
    }
   ],
   "source": [
    "conversion_control_grp = round(control_grp.query('rev > 0').shape[0] / control_grp.shape[0] * 100, 2)\n",
    "print(f'Conversion in control group: <{conversion_control_grp}%>')\n",
    "conversion_test_grp = round(test_grp.query('rev > 0').shape[0] / test_grp.shape[0] * 100, 2)\n",
    "print(f'Conversion in test group: <{conversion_test_grp}%>')\n",
    "conv_diff = round(conversion_test_grp-conversion_control_grp, 2)\n",
    "print(f'Delta: <{conv_diff}%> (abs) or <{round(conv_diff/conversion_control_grp*100, 2)}%%> (rel) - \\\n",
    "We can compare this metric in this way, so, as we see, Conversion slightly decreased after changes.')"
   ]
  },
  {
   "cell_type": "markdown",
   "metadata": {},
   "source": [
    "Since we see a deterioration of conversion, we should check Revenues by the following formula:\n",
    "> Revenue = Conversion * ARPPU"
   ]
  },
  {
   "cell_type": "markdown",
   "metadata": {},
   "source": [
    "#### Checking Revenues"
   ]
  },
  {
   "cell_type": "code",
   "execution_count": 35,
   "metadata": {},
   "outputs": [
    {
     "name": "stdout",
     "output_type": "stream",
     "text": [
      "ARPPU of control group: <860.71>\n",
      "ARPPU of test group: \t<1108.82> (increased)\n"
     ]
    }
   ],
   "source": [
    "# ARPPUs calculation\n",
    "ARPPU_control_grp = round(control_grp.rev.sum() / control_grp.query('rev > 0').shape[0], 2)\n",
    "print(f'ARPPU of control group: <{ARPPU_control_grp}>')\n",
    "ARPPU_test_grp = round(test_grp.rev.sum() / test_grp.query('rev > 0').shape[0], 2)\n",
    "print(f'ARPPU of test group: \\t<{ARPPU_test_grp}> (increased)')"
   ]
  },
  {
   "cell_type": "code",
   "execution_count": 36,
   "metadata": {},
   "outputs": [
    {
     "name": "stdout",
     "output_type": "stream",
     "text": [
      "Revenue of control group: <628.32>\n",
      "Revenue of test group:    <798.35> (increased)\n"
     ]
    }
   ],
   "source": [
    "# Revenues calculation\n",
    "revenue_contol_grp = round(conversion_control_grp * ARPPU_control_grp, 2)\n",
    "print(f'Revenue of control group: <{revenue_contol_grp}>')\n",
    "revenue_test_grp = round(conversion_test_grp * ARPPU_test_grp, 2)\n",
    "print(f'Revenue of test group:    <{revenue_test_grp}> (increased)')"
   ]
  },
  {
   "cell_type": "markdown",
   "metadata": {},
   "source": [
    "Well, it still looks inspiring."
   ]
  },
  {
   "cell_type": "markdown",
   "metadata": {},
   "source": [
    "That means, <u>if</u> we have <u>changes of revenues</u> by users from control and test groups which are <u>statistically significant</u> <u>then</u> we should assume the <u>new mecanics</u> as worthy <u>to launch</u> (the <u>Revenues</u> calculated one cell above are real and the <u>test's one</u> is actually <u>higher</u>)."
   ]
  },
  {
   "cell_type": "markdown",
   "metadata": {},
   "source": [
    "#### Selecting a Statistical Test"
   ]
  },
  {
   "cell_type": "markdown",
   "metadata": {},
   "source": [
    "To get right results of our statistical test we should select a proper test. Such a selection depends on several parameters:\n",
    ">1. variables' types\n",
    ">2. outliers presence\n",
    ">3. type of distribution"
   ]
  },
  {
   "cell_type": "markdown",
   "metadata": {},
   "source": [
    "Pertinent to our data we have:\n"
   ]
  },
  {
   "cell_type": "markdown",
   "metadata": {},
   "source": [
    ">1. Continuous data (revenue)\n",
    ">2. ..."
   ]
  },
  {
   "cell_type": "markdown",
   "metadata": {},
   "source": [
    "Looking for outliers presence"
   ]
  },
  {
   "cell_type": "code",
   "execution_count": 51,
   "metadata": {
    "scrolled": true
   },
   "outputs": [
    {
     "data": {
      "text/plain": [
       "<AxesSubplot:xlabel='grp', ylabel='rev'>"
      ]
     },
     "execution_count": 51,
     "metadata": {},
     "output_type": "execute_result"
    },
    {
     "data": {
      "image/png": "[encoded data removed]",
      "text/plain": [
       "<Figure size 432x288 with 1 Axes>"
      ]
     },
     "metadata": {},
     "output_type": "display_data"
    }
   ],
   "source": [
    "sns.boxplot(data=total.query('rev > 0'), x='grp', y='rev')"
   ]
  },
  {
   "cell_type": "markdown",
   "metadata": {},
   "source": [
    "Yes, we have outliers in both control (especially) and test groups. That's why..."
   ]
  },
  {
   "cell_type": "markdown",
   "metadata": {},
   "source": [
    "...\n",
    "\n",
    ">2. Outliers are present "
   ]
  },
  {
   "cell_type": "markdown",
   "metadata": {},
   "source": [
    "Try to correct it by transforming the data"
   ]
  },
  {
   "cell_type": "code",
   "execution_count": 74,
   "metadata": {},
   "outputs": [],
   "source": [
    "total['log_rev'] = np.log(total.query('rev>0').rev)"
   ]
  },
  {
   "cell_type": "code",
   "execution_count": 76,
   "metadata": {
    "scrolled": false
   },
   "outputs": [
    {
     "data": {
      "text/plain": [
       "<AxesSubplot:xlabel='grp', ylabel='log_rev'>"
      ]
     },
     "execution_count": 76,
     "metadata": {},
     "output_type": "execute_result"
    },
    {
     "data": {
      "image/png": "[encoded data removed]",
      "text/plain": [
       "<Figure size 432x288 with 1 Axes>"
      ]
     },
     "metadata": {},
     "output_type": "display_data"
    }
   ],
   "source": [
    "sns.boxplot(data=total.query('rev > 0'), x='grp', y='log_rev')"
   ]
  },
  {
   "cell_type": "markdown",
   "metadata": {},
   "source": [
    "Thus,\n",
    "\n",
    ">2. There are not outliers (for log(revenue))"
   ]
  },
  {
   "cell_type": "markdown",
   "metadata": {},
   "source": [
    "Checking type of distibutions..."
   ]
  },
  {
   "cell_type": "code",
   "execution_count": 100,
   "metadata": {
    "scrolled": false
   },
   "outputs": [
    {
     "name": "stdout",
     "output_type": "stream",
     "text": [
      "__ Revenue Distribution in Control group (A) __\n"
     ]
    },
    {
     "data": {
      "text/plain": [
       "<seaborn.axisgrid.FacetGrid at 0x1a7277ec550>"
      ]
     },
     "execution_count": 100,
     "metadata": {},
     "output_type": "execute_result"
    },
    {
     "data": {
      "image/png": "[encoded data removed]",
      "text/plain": [
       "<Figure size 360x360 with 1 Axes>"
      ]
     },
     "metadata": {},
     "output_type": "display_data"
    }
   ],
   "source": [
    "print('__ Revenue Distribution in Control group (A) __')\n",
    "sns.displot(total.query('grp == \"A\"').dropna().log_rev)"
   ]
  },
  {
   "cell_type": "code",
   "execution_count": 95,
   "metadata": {},
   "outputs": [
    {
     "name": "stdout",
     "output_type": "stream",
     "text": [
      "Normal Distribution in Control group is Confirmed\n"
     ]
    }
   ],
   "source": [
    "if shapiro(total.query('grp == \"A\"').dropna().log_rev)[1] < 0.05: print('Normal Distribution in Control group is Confirmed')"
   ]
  },
  {
   "cell_type": "code",
   "execution_count": 99,
   "metadata": {},
   "outputs": [
    {
     "name": "stdout",
     "output_type": "stream",
     "text": [
      "__ Revenue Distribution in Test group (A) __\n"
     ]
    },
    {
     "data": {
      "text/plain": [
       "<seaborn.axisgrid.FacetGrid at 0x1a73cf6de20>"
      ]
     },
     "execution_count": 99,
     "metadata": {},
     "output_type": "execute_result"
    },
    {
     "data": {
      "image/png": "[encoded data removed]",
      "text/plain": [
       "<Figure size 360x360 with 1 Axes>"
      ]
     },
     "metadata": {},
     "output_type": "display_data"
    }
   ],
   "source": [
    "print('__ Revenue Distribution in Test group (A) __')\n",
    "sns.displot(total.query('grp == \"B\"').dropna().log_rev)"
   ]
  },
  {
   "cell_type": "code",
   "execution_count": 98,
   "metadata": {},
   "outputs": [
    {
     "name": "stdout",
     "output_type": "stream",
     "text": [
      "Normal Distribution in Test group is Confirmed\n"
     ]
    }
   ],
   "source": [
    "if shapiro(total.query('grp == \"B\"').dropna().log_rev)[1] < 0.05: print('Normal Distribution in Test group is Confirmed')"
   ]
  },
  {
   "cell_type": "markdown",
   "metadata": {},
   "source": [
    "Thus, both samples are from normal distribution."
   ]
  },
  {
   "cell_type": "markdown",
   "metadata": {},
   "source": [
    "That is why we have:\n",
    ">1. Continuous data (revenue)\n",
    ">2. Values with no outliers\n",
    ">3. Normal Distributed data"
   ]
  },
  {
   "cell_type": "markdown",
   "metadata": {},
   "source": [
    "All of these points satisfy assumptions of t-test. That is why we apply it."
   ]
  },
  {
   "cell_type": "markdown",
   "metadata": {},
   "source": [
    "---"
   ]
  },
  {
   "cell_type": "code",
   "execution_count": null,
   "metadata": {},
   "outputs": [],
   "source": []
  },
  {
   "cell_type": "code",
   "execution_count": null,
   "metadata": {},
   "outputs": [],
   "source": []
  },
  {
   "cell_type": "code",
   "execution_count": null,
   "metadata": {},
   "outputs": [],
   "source": []
  },
  {
   "cell_type": "code",
   "execution_count": null,
   "metadata": {},
   "outputs": [],
   "source": [
    "# should calculate Conversion first."
   ]
  },
  {
   "cell_type": "code",
   "execution_count": null,
   "metadata": {},
   "outputs": [],
   "source": []
  },
  {
   "cell_type": "code",
   "execution_count": null,
   "metadata": {},
   "outputs": [],
   "source": []
  },
  {
   "cell_type": "code",
   "execution_count": null,
   "metadata": {},
   "outputs": [],
   "source": []
  },
  {
   "cell_type": "markdown",
   "metadata": {},
   "source": [
    "---"
   ]
  },
  {
   "cell_type": "code",
   "execution_count": 31,
   "metadata": {
    "scrolled": false
   },
   "outputs": [
    {
     "data": {
      "text/plain": [
       "count    59883.000000\n",
       "mean         8.036171\n",
       "std        113.249998\n",
       "min          0.000000\n",
       "25%          0.000000\n",
       "50%          0.000000\n",
       "75%          0.000000\n",
       "max       4650.000000\n",
       "Name: rev, dtype: float64"
      ]
     },
     "execution_count": 31,
     "metadata": {},
     "output_type": "execute_result"
    }
   ],
   "source": [
    "B_df.rev.describe()"
   ]
  },
  {
   "cell_type": "code",
   "execution_count": 32,
   "metadata": {},
   "outputs": [
    {
     "data": {
      "text/plain": [
       "count    14693.000000\n",
       "mean         6.268019\n",
       "std        100.790849\n",
       "min          0.000000\n",
       "25%          0.000000\n",
       "50%          0.000000\n",
       "75%          0.000000\n",
       "max       3660.000000\n",
       "Name: rev, dtype: float64"
      ]
     },
     "execution_count": 32,
     "metadata": {},
     "output_type": "execute_result"
    }
   ],
   "source": [
    "A_df.rev.describe()"
   ]
  },
  {
   "cell_type": "markdown",
   "metadata": {},
   "source": [
    "We can see that means differ so as in the test group it's 33% higher with almost equal standard deviations.\n",
    "\n",
    "But of course this isn't enough to determine statistical significance. We need a test, but which one?"
   ]
  },
  {
   "cell_type": "markdown",
   "metadata": {},
   "source": [
    "Have tried to see smth similar to Normal Distribution in different data on the basis of result_df (have used different queries: was_active=True / rev!=0 / was_active=True **&** rev!=0 / etc.), I didn't get the ND itself even with one of the most popular normalization method np.log(x+1)."
   ]
  },
  {
   "cell_type": "markdown",
   "metadata": {},
   "source": [
    "So that's why we will use Mann-Whitney U-test to find the statistical significance."
   ]
  },
  {
   "cell_type": "markdown",
   "metadata": {},
   "source": [
    "## Mann-Whitney test"
   ]
  },
  {
   "cell_type": "markdown",
   "metadata": {},
   "source": [
    "(*) it's necessary to mention that there's a note in the method description:\n",
    ">\"mannwhitneyu is for independent samples. For related / paired samples, consider scipy.stats.wilcoxon.\"\n",
    "\n",
    "We cannot understand on the given data Are the saples independent or Not, but we hope that the A/B division process was sufficient to apply the Method."
   ]
  },
  {
   "cell_type": "code",
   "execution_count": 33,
   "metadata": {},
   "outputs": [
    {
     "data": {
      "text/plain": [
       "0.9767852353134627"
      ]
     },
     "execution_count": 33,
     "metadata": {},
     "output_type": "execute_result"
    }
   ],
   "source": [
    "mannwhitneyu(B_df.rev, A_df.rev)[1]  # p_value"
   ]
  },
  {
   "cell_type": "markdown",
   "metadata": {},
   "source": [
    "Hm... H0 of the method is about absence of any diffs. P_value greater than 0.05 tells us about not to decline such absence but accept more possible situation of their similarity."
   ]
  },
  {
   "cell_type": "markdown",
   "metadata": {},
   "source": [
    "Let's see on the Box-plots of the groups."
   ]
  },
  {
   "cell_type": "code",
   "execution_count": 34,
   "metadata": {},
   "outputs": [
    {
     "data": {
      "image/png": "[encoded data removed]",
      "text/plain": [
       "<Figure size 432x288 with 1 Axes>"
      ]
     },
     "metadata": {},
     "output_type": "display_data"
    }
   ],
   "source": [
    "ax = sns.boxplot(x=\"grp\", y=\"rev\", data=result_df)"
   ]
  },
  {
   "cell_type": "markdown",
   "metadata": {},
   "source": [
    "Aha. If I don't make a mistake then we have a huge amount of overshoots. Then **U-test of Mann-Whitney wasn't a correct choice for the samples**. Let's do Bootstrap."
   ]
  },
  {
   "cell_type": "markdown",
   "metadata": {},
   "source": [
    "---"
   ]
  },
  {
   "cell_type": "markdown",
   "metadata": {},
   "source": [
    "---"
   ]
  },
  {
   "cell_type": "markdown",
   "metadata": {},
   "source": [
    "---"
   ]
  },
  {
   "cell_type": "markdown",
   "metadata": {},
   "source": [
    "**РАБОТА НАД ОШИБКАМИ в этом задании:**\n",
    "\n",
    "**блок 2 из 4**"
   ]
  },
  {
   "cell_type": "markdown",
   "metadata": {},
   "source": [
    "Согласно замечаний Олега Цыбикова, \"ничего удивительного, что Манн-Уитни оказался не значимым (мягко говоря) — в обеих выборках огромная доля нулей\". И действительно! Большая доля одинаковых значений \"уравнивает\" выборки, делает их все более и более похожими друг на друга. Но при первоначальном решении, возможно из-за невнимательности, эта действительно очевидная мысль не пришла мне в голову. Поэтому для исправления этого считаю нужным добавить этот блок с пояснением."
   ]
  },
  {
   "cell_type": "markdown",
   "metadata": {},
   "source": [
    "**КОНЕЦ РАБОТЫ НАД ОШБКАМИ этого задания в блоке 4 из Х**"
   ]
  },
  {
   "cell_type": "markdown",
   "metadata": {},
   "source": [
    "---"
   ]
  },
  {
   "cell_type": "markdown",
   "metadata": {},
   "source": [
    "---"
   ]
  },
  {
   "cell_type": "markdown",
   "metadata": {},
   "source": [
    "---"
   ]
  },
  {
   "cell_type": "markdown",
   "metadata": {},
   "source": [
    "But for what statistics?\n",
    "\n"
   ]
  },
  {
   "cell_type": "markdown",
   "metadata": {},
   "source": [
    "As I know, Bootstrap on different statistics may vary more or less, that's why we should determine the statistics before the test, otherwise, we can do some adjust-values-work. Personally I don't have such knowledge and experience to answer this question clearly and unambiguous, but smth tells me that in this case (where we have almost the same amount of overshoots in both samples and similat std deviations in them) it's possible to use Mean."
   ]
  },
  {
   "cell_type": "markdown",
   "metadata": {},
   "source": [
    "*If you don't mind I'm gonna use a pre-ready code.*"
   ]
  },
  {
   "cell_type": "markdown",
   "metadata": {},
   "source": [
    "**!!! Внимание:**\n",
    "\n",
    "*Pre-ready code будет использован с русскими комментариями.*"
   ]
  },
  {
   "cell_type": "markdown",
   "metadata": {},
   "source": [
    "## Bootstrap"
   ]
  },
  {
   "cell_type": "code",
   "execution_count": 35,
   "metadata": {},
   "outputs": [],
   "source": [
    "# Объявим функцию, которая позволит проверять гипотезы с помощью бутстрапа\n",
    "def get_bootstrap_mean(\n",
    "    data_column_1,  # числовые значения первой выборки\n",
    "    data_column_2,  # числовые значения второй выборки\n",
    "    boot_it=1000,  # количество бутстрэп-подвыборок\n",
    "    statistic=np.mean,  # интересующая нас статистика\n",
    "    bootstrap_conf_level=0.95  # уровень значимости\n",
    "):\n",
    "    boot_len = max([len(data_column_1), len(data_column_2)])\n",
    "    boot_data = []\n",
    "    for i in tqdm(range(boot_it)):  # извлекаем подвыборки\n",
    "        samples_1 = data_column_1.sample(\n",
    "            boot_len, \n",
    "            replace=True  # параметр возвращения\n",
    "        ).values\n",
    "        \n",
    "        samples_2 = data_column_2.sample(\n",
    "            boot_len, \n",
    "            replace=True\n",
    "        ).values\n",
    "        \n",
    "        boot_data.append(statistic(samples_1 - samples_2))  # mean() - применяем статистику\n",
    "        \n",
    "    pd_boot_data = pd.DataFrame(boot_data)\n",
    "        \n",
    "    left_quant = (1 - bootstrap_conf_level) / 2\n",
    "    right_quant = 1 - (1 - bootstrap_conf_level) / 2\n",
    "    ci = pd_boot_data.quantile([left_quant, right_quant])\n",
    "        \n",
    "    p_1 = norm.cdf(\n",
    "        x=0, \n",
    "        loc=np.mean(boot_data), \n",
    "        scale=np.std(boot_data)\n",
    "    )\n",
    "    p_2 = norm.cdf(\n",
    "        x=0, \n",
    "        loc=-np.mean(boot_data), \n",
    "        scale=np.std(boot_data)\n",
    "    )\n",
    "    p_value = min(p_1, p_2) * 2\n",
    "        \n",
    "    # Визуализация\n",
    "    plt.hist(pd_boot_data[0], bins=50)\n",
    "    \n",
    "    plt.style.use('ggplot')\n",
    "    plt.vlines(ci, ymin=0, ymax=50, linestyle='--')\n",
    "    plt.xlabel('boot_data')\n",
    "    plt.ylabel('frequency')\n",
    "    plt.title(\"Histogram of boot_data\")\n",
    "    plt.show()\n",
    "       \n",
    "    return {\"boot_data\": boot_data, \n",
    "            \"ci\": ci, \n",
    "            \"p_value\": p_value}"
   ]
  },
  {
   "cell_type": "code",
   "execution_count": 36,
   "metadata": {},
   "outputs": [
    {
     "data": {
      "application/vnd.jupyter.widget-view+json": {
       "model_id": "2bab5ffe8dbf415687d6597412a731c8",
       "version_major": 2,
       "version_minor": 0
      },
      "text/plain": [
       "HBox(children=(FloatProgress(value=0.0, max=1000.0), HTML(value='')))"
      ]
     },
     "metadata": {},
     "output_type": "display_data"
    },
    {
     "name": "stdout",
     "output_type": "stream",
     "text": [
      "\n"
     ]
    },
    {
     "data": {
      "image/png": "[encoded data removed]",
      "text/plain": [
       "<Figure size 432x288 with 1 Axes>"
      ]
     },
     "metadata": {},
     "output_type": "display_data"
    }
   ],
   "source": [
    "booted_data_mean = get_bootstrap_mean(B_df.rev, A_df.rev)"
   ]
  },
  {
   "cell_type": "code",
   "execution_count": 37,
   "metadata": {},
   "outputs": [
    {
     "data": {
      "text/plain": [
       "0.004479539415831214"
      ]
     },
     "execution_count": 37,
     "metadata": {},
     "output_type": "execute_result"
    }
   ],
   "source": [
    "booted_data_mean['p_value']"
   ]
  },
  {
   "cell_type": "markdown",
   "metadata": {},
   "source": [
    "It tells us groups differ."
   ]
  },
  {
   "cell_type": "markdown",
   "metadata": {},
   "source": [
    "For completed analysis let's conduct one more test with active users only. "
   ]
  },
  {
   "cell_type": "markdown",
   "metadata": {},
   "source": [
    "---"
   ]
  },
  {
   "cell_type": "markdown",
   "metadata": {},
   "source": [
    "---"
   ]
  },
  {
   "cell_type": "markdown",
   "metadata": {},
   "source": [
    "---"
   ]
  },
  {
   "cell_type": "markdown",
   "metadata": {},
   "source": [
    "**РАБОТА НАД ОШИБКАМИ в этом задании:**\n",
    "\n",
    "**блок 3 из 4**"
   ]
  },
  {
   "cell_type": "markdown",
   "metadata": {},
   "source": [
    "Уточняю предыдущий блок MarkDown : \"For completed analysis let's conduct one more test with active users only.\"\n",
    "\n",
    "Мы проведем не один тест, а дополним его еще следующими:\n",
    "- по метрике ARPPU, т.е. только на платящих пользователях, сделаем еще один тест, тоже по bootstrap (чтобы сохранялась унифицированность эксперимента с изначальной метрикой);\n",
    "- попробуем посчитать конверсию (см. в блоке 1)."
   ]
  },
  {
   "cell_type": "markdown",
   "metadata": {},
   "source": [
    "**КОНЕЦ РАБОТЫ НАД ОШБКАМИ этого задания в блоке 3 из 4**"
   ]
  },
  {
   "cell_type": "markdown",
   "metadata": {},
   "source": [
    "---"
   ]
  },
  {
   "cell_type": "markdown",
   "metadata": {},
   "source": [
    "---"
   ]
  },
  {
   "cell_type": "markdown",
   "metadata": {},
   "source": [
    "---"
   ]
  },
  {
   "cell_type": "markdown",
   "metadata": {},
   "source": [
    "## Only active users"
   ]
  },
  {
   "cell_type": "code",
   "execution_count": 38,
   "metadata": {},
   "outputs": [],
   "source": [
    "B_active_df = B_df.query('was_active == True')"
   ]
  },
  {
   "cell_type": "code",
   "execution_count": 39,
   "metadata": {},
   "outputs": [],
   "source": [
    "A_active_df = A_df.query('was_active == True')"
   ]
  },
  {
   "cell_type": "code",
   "execution_count": 40,
   "metadata": {},
   "outputs": [
    {
     "data": {
      "application/vnd.jupyter.widget-view+json": {
       "model_id": "104fad61dc13459d98ed9f363fa39717",
       "version_major": 2,
       "version_minor": 0
      },
      "text/plain": [
       "HBox(children=(FloatProgress(value=0.0, max=1000.0), HTML(value='')))"
      ]
     },
     "metadata": {},
     "output_type": "display_data"
    },
    {
     "name": "stdout",
     "output_type": "stream",
     "text": [
      "\n"
     ]
    },
    {
     "data": {
      "image/png": "[encoded data removed]",
      "text/plain": [
       "<Figure size 432x288 with 1 Axes>"
      ]
     },
     "metadata": {},
     "output_type": "display_data"
    }
   ],
   "source": [
    "booted_data_active_mean = get_bootstrap_mean(B_active_df.rev, A_active_df.rev)"
   ]
  },
  {
   "cell_type": "code",
   "execution_count": 41,
   "metadata": {},
   "outputs": [
    {
     "data": {
      "text/plain": [
       "0.034507287790656184"
      ]
     },
     "execution_count": 41,
     "metadata": {},
     "output_type": "execute_result"
    }
   ],
   "source": [
    "booted_data_active_mean['p_value']"
   ]
  },
  {
   "cell_type": "markdown",
   "metadata": {},
   "source": [
    "Groups differ but in a less extent than results on all of the data.\n",
    "But it can be so because when we test all of the data we take both Active and \"Passive\" users, and among the last ones the quantity of not paying users, we should assume, is greater than among Active users (see below). That's why the quantity of not paying users can effect on the test results in this way: decrease difference (more users with 0 revenue)."
   ]
  },
  {
   "cell_type": "code",
   "execution_count": 42,
   "metadata": {
    "scrolled": true
   },
   "outputs": [
    {
     "name": "stdout",
     "output_type": "stream",
     "text": [
      "1)  95.38438924004116\n",
      "2)  94.92847854356306\n",
      "3)  99.77392614920875\n",
      "4)  99.77955150133029\n"
     ]
    }
   ],
   "source": [
    "print('1) ', (B_active_df.shape[0] - B_active_df.query('rev > 0').shape[0]) / B_active_df.shape[0] * 100)\n",
    "# те, кто не платят из активных в тестовой группе\n",
    "print('2) ', (A_active_df.shape[0] - A_active_df.query('rev > 0').shape[0]) / A_active_df.shape[0] * 100)\n",
    "# те, кто не платят из активных в контрольной группе\n",
    "\n",
    "B_passive_df = B_df.query('was_active == False')\n",
    "A_passive_df = A_df.query('was_active == False')\n",
    "\n",
    "print('3) ', (B_passive_df.shape[0] - B_passive_df.query('rev > 0').shape[0]) / B_passive_df.shape[0] * 100)\n",
    "# те, кто не платят в пассивной тестовой группе\n",
    "print('4) ', (A_passive_df.shape[0] - A_passive_df.query('rev > 0').shape[0]) / A_passive_df.shape[0] * 100)\n",
    "# те, кто не платят в пассивной контрольной группе"
   ]
  },
  {
   "cell_type": "markdown",
   "metadata": {},
   "source": [
    "---"
   ]
  },
  {
   "cell_type": "markdown",
   "metadata": {},
   "source": [
    "---"
   ]
  },
  {
   "cell_type": "markdown",
   "metadata": {},
   "source": [
    "---"
   ]
  },
  {
   "cell_type": "markdown",
   "metadata": {},
   "source": [
    "**РАБОТА НАД ОШИБКАМИ в этом задании:**\n",
    "\n",
    "**блок 4 из 4**"
   ]
  },
  {
   "cell_type": "markdown",
   "metadata": {},
   "source": [
    "Итак, приступим к дополнительным тестам. Напомню, что это:\n",
    "- Сделаем bootstrap по ARPPU;\n",
    "- Попробуем посчитать \"конверсию в покупку\" (согласно замечаниям проверяющего работу - Олега Цыбикова)."
   ]
  },
  {
   "cell_type": "markdown",
   "metadata": {},
   "source": [
    "## Bootstrap по метрике ARPPU"
   ]
  },
  {
   "cell_type": "code",
   "execution_count": 43,
   "metadata": {},
   "outputs": [],
   "source": [
    "# Делаем выборку только по платящим пользователям\n",
    "B_paying_df = B_df.query(\"rev != 0\")\n",
    "A_paying_df = A_df.query(\"rev != 0\")"
   ]
  },
  {
   "cell_type": "code",
   "execution_count": 44,
   "metadata": {
    "scrolled": false
   },
   "outputs": [
    {
     "data": {
      "application/vnd.jupyter.widget-view+json": {
       "model_id": "4c842d781628489c967166b82f570507",
       "version_major": 2,
       "version_minor": 0
      },
      "text/plain": [
       "HBox(children=(FloatProgress(value=0.0, max=1000.0), HTML(value='')))"
      ]
     },
     "metadata": {},
     "output_type": "display_data"
    },
    {
     "name": "stdout",
     "output_type": "stream",
     "text": [
      "\n"
     ]
    },
    {
     "data": {
      "image/png": "[encoded data removed]",
      "text/plain": [
       "<Figure size 432x288 with 1 Axes>"
      ]
     },
     "metadata": {},
     "output_type": "display_data"
    }
   ],
   "source": [
    "booted_data_mean = get_bootstrap_mean(B_paying_df.rev, A_paying_df.rev)"
   ]
  },
  {
   "cell_type": "code",
   "execution_count": 45,
   "metadata": {},
   "outputs": [
    {
     "data": {
      "text/plain": [
       "3.0324789356291067e-06"
      ]
     },
     "execution_count": 45,
     "metadata": {},
     "output_type": "execute_result"
    }
   ],
   "source": [
    "booted_data_mean['p_value']"
   ]
  },
  {
   "cell_type": "code",
   "execution_count": 46,
   "metadata": {},
   "outputs": [
    {
     "name": "stdout",
     "output_type": "stream",
     "text": [
      "Да, среднее от booted_data < 0.05\n"
     ]
    }
   ],
   "source": [
    "if booted_data_mean['p_value'] < 0.05:\n",
    "    print('Да, среднее от booted_data < 0.05')"
   ]
  },
  {
   "cell_type": "markdown",
   "metadata": {},
   "source": [
    "Итак, bootstrap по платящим пользователям показывает, что группы тестовая и контрольная статистически значимо различаются. Забегая вперед, отмечу, что эти результаты не сильно влияют на уже сделанный вывод."
   ]
  },
  {
   "cell_type": "markdown",
   "metadata": {},
   "source": [
    "Теперь попробуем разобраться с запрошенной проверяющим Олегом Цыбиковым конверсией в покупку."
   ]
  },
  {
   "cell_type": "markdown",
   "metadata": {},
   "source": [
    "Что такое конверсия? Конверсия - это отношение числа пользователей выполнивших целевое действие к числу всех \"пришедших\" пользователей. Что в нашем случае \"целевое действие\" и \"число всех пользователей\"?\n",
    "- Целевое действие, согласно замечанию Олега, - это покупка. Какую покупку совершают наши пользователи? Ту, что отражена в колонке rev.\n",
    "- Число всех пользователей - число строк в колонке rev.\n",
    "\n",
    "Хорошо. Тогда посчитаем конверсию в покупку в контрольной и тестовой группах по следующей формуле:\n",
    "\n",
    "*{Конверсия в покупку} = {Число пользователей с rev!=0}/{Число всех пользователей}*"
   ]
  },
  {
   "cell_type": "code",
   "execution_count": 47,
   "metadata": {},
   "outputs": [
    {
     "name": "stdout",
     "output_type": "stream",
     "text": [
      "Конверсия в целевой группе:  0.72 %\n",
      "Конверсия в контрольной группе:  0.73 %\n"
     ]
    }
   ],
   "source": [
    "conv_in_B = B_paying_df.student_id.count() / B_df.student_id.count() * 100  # целевая группа\n",
    "print('Конверсия в целевой группе: ', conv_in_B.round(2), '%')\n",
    "\n",
    "conv_in_A = A_paying_df.student_id.count() / A_df.student_id.count() * 100  # контрольная группа\n",
    "print('Конверсия в контрольной группе: ', conv_in_A.round(2), '%')"
   ]
  },
  {
   "cell_type": "markdown",
   "metadata": {},
   "source": [
    "Как мы видим, разница в значениях конверсий составляет 0.01, что говорит нам, что конверсии мало отличаются."
   ]
  },
  {
   "cell_type": "markdown",
   "metadata": {},
   "source": [
    "Однако данный тест я сделал именно под влиянием замечания Олега, т.к. сам я даже сейчас не могу понять, как это полученное знание может быть мною использовано и получено ли оно верно. Хотелось бы это обсудить."
   ]
  },
  {
   "cell_type": "markdown",
   "metadata": {},
   "source": [
    "**КОНЕЦ РАБОТЫ НАД ОШБКАМИ этого задания в блоке 4 из 4**"
   ]
  },
  {
   "cell_type": "markdown",
   "metadata": {},
   "source": [
    "---"
   ]
  },
  {
   "cell_type": "markdown",
   "metadata": {},
   "source": [
    "---"
   ]
  },
  {
   "cell_type": "markdown",
   "metadata": {},
   "source": [
    "---"
   ]
  },
  {
   "cell_type": "markdown",
   "metadata": {},
   "source": [
    "## Conclusion"
   ]
  },
  {
   "cell_type": "markdown",
   "metadata": {},
   "source": [
    "Bootstrap method **on the targeted ARPU (added during the correction work)** tells us we have a significant difference btw Test and Control groups. That's why if:\n",
    "- the division of users on control and test groups was correct (e.g. randomly obtained)\n",
    "- the data was collecting in a right way (e.g. sufficient period of time)\n",
    "- etc.\n",
    "\n",
    "then we should launch the new \"Pay Path\" for all users."
   ]
  },
  {
   "cell_type": "code",
   "execution_count": null,
   "metadata": {},
   "outputs": [],
   "source": []
  },
  {
   "cell_type": "code",
   "execution_count": null,
   "metadata": {},
   "outputs": [],
   "source": []
  },
  {
   "cell_type": "code",
   "execution_count": null,
   "metadata": {},
   "outputs": [],
   "source": []
  },
  {
   "cell_type": "markdown",
   "metadata": {},
   "source": [
    "## Задача 2"
   ]
  },
  {
   "cell_type": "markdown",
   "metadata": {},
   "source": [
    "Есть таблица: peas\n",
    "\n",
    "Есть колонки:\n",
    "- st_id   -- ID ученика\n",
    "- timest  -- Время решения карточки\n",
    "- correct -- Правильно ли решена горошина?\n",
    "- subject -- Дисциплина, в которой находится горошина\n",
    "\n",
    "Усердный ученик - это тот, у которого:\n",
    "- хотя бы 1 раз за месяц правильно решено 20 горошин за час."
   ]
  },
  {
   "cell_type": "code",
   "execution_count": null,
   "metadata": {},
   "outputs": [],
   "source": [
    "# Изначальное условие\n",
    "st_id - int - ID ученика\n",
    "timest - timestamp - Время решения задания\n",
    "correct - bool - Правильно ли решено задание\n",
    "\n",
    "усердный ученик - тот, который хотя бы раз за текущий месяц правильно решил 20 задач за час\n",
    "\n",
    "Дать информацию о количестве очень усердных студентов за март 2020 года"
   ]
  },
  {
   "cell_type": "markdown",
   "metadata": {},
   "source": [
    "### Objective\n",
    "\n",
    "Найти количество усердных учеников за март 2020."
   ]
  },
  {
   "cell_type": "markdown",
   "metadata": {},
   "source": [
    "## Решение"
   ]
  },
  {
   "cell_type": "markdown",
   "metadata": {},
   "source": [
    "Готовим данные.\n",
    "- отсеиваем данные по колонке timest так, чтобы остались только данные за март 2020.\n",
    "- берем в колонку spent общее кол-во минут, потраченных на выполнение задания, из данных колонки timest для каждого пользователя."
   ]
  },
  {
   "cell_type": "code",
   "execution_count": null,
   "metadata": {},
   "outputs": [],
   "source": [
    "SELECT\n",
    "    st_id AS ID,\n",
    "    minute(timest)+(minute(timest)*60) AS spent,\n",
    "    correct\n",
    "FROM some_database.peas\n",
    "WHERE\n",
    "    month(timest) = 3\n",
    "    AND year(timest) = 2020\n",
    "\n",
    "LIMIT 100"
   ]
  },
  {
   "cell_type": "markdown",
   "metadata": {},
   "source": [
    "- считаем скользящую сумму по колонкам spent и correct (далее будем агрегировать их по ID).\n",
    "- теперь у нас есть для каждого ID массивы с накопительными значениями потраченного времени и решенных задач.\n",
    "- тогда нам остается найти время решения десятой задачи.\n",
    "- для обоих массивов (что в колонке spent, что в колонке correct) порядок значений сохранен так, что, если мы в массиве correct найдем порядковый номер 20, то по этому же номеру мы сможем отыскать время, затраченное студентом для достижения этих 20 правильно решенных задач, из массива spent.\n",
    "- поэтому мы создаем условие вывода после заданной агрегации тех строк, у которых\n",
    "    - во-первых, число 20 вообще есть среди значений массивов колонки solved_cumulative: indexOf(solved_cumulative,20) > 0\n",
    "    - во-вторых, эти 20 задач решены за время не более часа: spent_cumulative[indexOf(solved_cumulative,20)] <= 60\n",
    "- и выводим из полученных данных только ID"
   ]
  },
  {
   "cell_type": "code",
   "execution_count": null,
   "metadata": {},
   "outputs": [],
   "source": [
    "SELECT ID\n",
    "FROM\n",
    "    (\n",
    "    SELECT \n",
    "        ID,\n",
    "        groupArrayMovingSum(spent) AS spent_cumulative,\n",
    "        groupArrayMovingSum(correct) AS solved_cumulative\n",
    "    FROM\n",
    "        (\n",
    "        SELECT\n",
    "            st_id AS ID,\n",
    "            minute(timest)+(minute(timest)*60) AS spent,\n",
    "            correct\n",
    "        FROM some_database.peas\n",
    "        WHERE\n",
    "            month(timest) = 3\n",
    "            AND year(timest) = 2020\n",
    "        )\n",
    "    GROUP BY ID\n",
    "    HAVING \n",
    "        indexOf(solved_cumulative,20) > 0\n",
    "        AND spent_cumulative[indexOf(solved_cumulative,20)] <= 60\n",
    "    ORDER BY ID\n",
    "    )\n",
    "-- однако есть опасения, что нужна была сортировка вида ID, timest, чтобы упорядочить значения."
   ]
  },
  {
   "cell_type": "markdown",
   "metadata": {},
   "source": [
    "---"
   ]
  },
  {
   "cell_type": "markdown",
   "metadata": {},
   "source": [
    "---"
   ]
  },
  {
   "cell_type": "markdown",
   "metadata": {},
   "source": [
    "---"
   ]
  },
  {
   "cell_type": "markdown",
   "metadata": {},
   "source": [
    "**РАБОТА НАД ОШИБКАМИ в этом задании:**"
   ]
  },
  {
   "cell_type": "markdown",
   "metadata": {},
   "source": [
    "В этой задаче сказано \"найти количество\" таких учеников. Мой же запрос выводит только их ID."
   ]
  },
  {
   "cell_type": "markdown",
   "metadata": {},
   "source": [
    "Соответственно, мне нужно в текущем результате запроса лишь посчитать количество (уникальных, на всякий случай) ID и вывести это значение."
   ]
  },
  {
   "cell_type": "markdown",
   "metadata": {},
   "source": [
    "Таким образом, финальный мой ответ на поставленное условие в задании - ниже:"
   ]
  },
  {
   "cell_type": "code",
   "execution_count": null,
   "metadata": {},
   "outputs": [],
   "source": [
    "SELECT count (DISTINCT ID)\n",
    "FROM\n",
    "    (\n",
    "    SELECT \n",
    "        ID,\n",
    "        groupArrayMovingSum(spent) AS spent_cumulative,\n",
    "        groupArrayMovingSum(correct) AS solved_cumulative\n",
    "    FROM\n",
    "        (\n",
    "        SELECT\n",
    "            st_id AS ID,\n",
    "            minute(timest)+(minute(timest)*60) AS spent,\n",
    "            correct\n",
    "        FROM some_database.peas\n",
    "        WHERE\n",
    "            month(timest) = 3\n",
    "            AND year(timest) = 2020\n",
    "        )\n",
    "    GROUP BY ID\n",
    "    HAVING \n",
    "        indexOf(solved_cumulative,20) > 0\n",
    "        AND spent_cumulative[indexOf(solved_cumulative,20)] <= 60\n",
    "    ORDER BY ID\n",
    "    )\n",
    "-- однако есть опасения, что нужна была сортировка вида ID, timest, чтобы упорядочить значения."
   ]
  },
  {
   "cell_type": "markdown",
   "metadata": {},
   "source": [
    "**Внимание:**\n",
    "\n",
    "!!!: *Далее идет блок лишь для обсуждения возможного дополнительного решения этой задачи.*"
   ]
  },
  {
   "cell_type": "markdown",
   "metadata": {},
   "source": [
    "Честно признаюсь, я попросил помощи у своего друга: попросил его написать такой запрос, который отражал бы его видение на решение этой задачи. При этом я упростил начальную задачу, приведя ее к подобной. В итоге, придерживаясь его \"пайплайна\" решения, на основе его кода, и сублимируя это с начальным условием задачи, я получил такой запрос: "
   ]
  },
  {
   "cell_type": "code",
   "execution_count": null,
   "metadata": {},
   "outputs": [],
   "source": [
    "SELECT ID\n",
    "FROM (\n",
    "    SELECT  ID,\n",
    "            time,\n",
    "            rn,\n",
    "            sum(time) over (partition by ID order by ID, rn) as sum_time\n",
    "    FROM (\n",
    "        SELECT ID,\n",
    "                time,\n",
    "                row_number() over (partition by ID order by time) as rn\n",
    "        FROM (\n",
    "            SELECT ID, time\n",
    "            FROM (\n",
    "                SELECT\n",
    "                    st_id AS ID,\n",
    "                    minute(timest)+(minute(timest)*60) AS time,\n",
    "                    correct\n",
    "                FROM some_database.peas\n",
    "                WHERE\n",
    "                    month(timest) = 3\n",
    "                    AND year(timest) = 2020\n",
    "            ) as table\n",
    "            WHERE correct = 1\n",
    "        ) as only_correct_answers\n",
    "    ) as order_by_low_time\n",
    ") as sum_time_in_one_id\n",
    "WHERE rn = 20 and sum_time < 60;"
   ]
  },
  {
   "cell_type": "markdown",
   "metadata": {},
   "source": [
    "Хотелось бы обсудить его вместе со знающим и компетентным человеком :)"
   ]
  },
  {
   "cell_type": "markdown",
   "metadata": {},
   "source": [
    "Мои мысли:\n",
    "\n",
    "Судя по тому, как мне объяснил друг, его запрос делает следующее:\n",
    "- он отбирает только данные с правильными ответами учеников,\n",
    "- далее посредством оконных функций суммирует данные по времени и решенным задачам,\n",
    "- и отбирает те ID, в данных которых 20 решенных задач и время до 60 минут.\n",
    "\n",
    "Чем отличается такой алгоритм от представленного моего?\n",
    "\n",
    "Дело в том, что если мы представим такую ситуацию, что ученик: 1) сделал, к примеру, первую задачу за 5 минут, 2) затем вторую задачу он решал с несколькими неудачными попытками: при первой попытке он потратил 20 мин и не решил (correct = 0), при второй - 10 мин и не решил, а при третьей - 5 мин и отправил, наконец, верный ответ (correct = 1), - то решение друга выдаст, что ученик решил эти две задачи за 10 мин (5 мин от первой задачи + 5 мин от третьей попытки второй задачи). При этом думая над своим решением, я пытался сделать так, чтобы в итоге мой запрос показал бы решение двух задач в этом случае за (5+20+10+5) 40 мин. Ведь не зря же нам данные именно в формате TimeStamp даны - чтобы мы имели, так скажем, абсолютное значение времени. Но условие задачи не уточняет этот момент. Поэтому я и привожу здесь это решение для обсуждения.\n",
    "\n",
    "Спасибо большое, если проверите и его."
   ]
  },
  {
   "cell_type": "markdown",
   "metadata": {},
   "source": [
    "**КОНЕЦ РАБОТЫ НАД ОШБКАМИ в этом задании**"
   ]
  },
  {
   "cell_type": "markdown",
   "metadata": {},
   "source": [
    "---"
   ]
  },
  {
   "cell_type": "markdown",
   "metadata": {},
   "source": [
    "---"
   ]
  },
  {
   "cell_type": "markdown",
   "metadata": {},
   "source": [
    "---"
   ]
  },
  {
   "cell_type": "code",
   "execution_count": null,
   "metadata": {},
   "outputs": [],
   "source": []
  },
  {
   "cell_type": "code",
   "execution_count": null,
   "metadata": {},
   "outputs": [],
   "source": []
  },
  {
   "cell_type": "code",
   "execution_count": null,
   "metadata": {},
   "outputs": [],
   "source": []
  },
  {
   "cell_type": "markdown",
   "metadata": {},
   "source": [
    "## Задача 3"
   ]
  },
  {
   "cell_type": "markdown",
   "metadata": {},
   "source": [
    "## Условие"
   ]
  },
  {
   "cell_type": "markdown",
   "metadata": {},
   "source": [
    "Реализовать функцию, \n",
    "\n",
    "которая будет **автоматически** подгружать информацию из дополнительного файла groups_add.csv (заголовки могут отличаться)\n",
    "\n",
    "и на основании дополнительных параметров пересчитывать метрики."
   ]
  },
  {
   "cell_type": "markdown",
   "metadata": {},
   "source": [
    "## Решение"
   ]
  },
  {
   "cell_type": "markdown",
   "metadata": {},
   "source": [
    "Так как в решении **Задачи 1** никаких особых метрик для проверки A/B теста не использовалось, а только проводился Bootstrap, то попробую реализовать функцию, способную автоматически подгружать данные и самостоятельно проводить Bootstrap."
   ]
  },
  {
   "cell_type": "markdown",
   "metadata": {},
   "source": [
    "- т.е., мы уже имеем наш датафрейм со всеми результатами, который мы сделали в Задании1 (пусть это result_df.csv).\n",
    "- а запуская функцию, python сам должен найти файл (groups_add.csv), выгрузить из него данные, добавить их в result_df.csv, обработать, дать оценку.\n",
    "- также я делаю допущение, что в groups_add.csv помимо колонок из первого задания (id, grp) есть и rev. Должна быть rev, так как по ней мы и считаем успешность новых фич, а в условии не сказано, что нам дается новый файл для checks."
   ]
  },
  {
   "cell_type": "code",
   "execution_count": 1,
   "metadata": {},
   "outputs": [],
   "source": [
    "def get_updated_stat():\n",
    "    # import all necessary modules\n",
    "    # modules for getting data\n",
    "    import requests\n",
    "    from urllib.parse import urlencode\n",
    "    # std\n",
    "    import pandas as pd\n",
    "    import numpy as np\n",
    "    # for bootstrap\n",
    "    from scipy.stats import norm\n",
    "    from tqdm.auto import tqdm\n",
    "    \n",
    "    # download new data\n",
    "    project_2_goup_add = 'https://disk.yandex.ru/d/3aARY-P9pfaksg'\n",
    "    public_key = project_2_goup_add  # Сюда вписываете ссылку\n",
    "    # Получаем загрузочную ссылку\n",
    "    final_url = base_url + urlencode(dict(public_key=public_key))\n",
    "    response = requests.get(final_url)\n",
    "    download_url = response.json()['href']\n",
    "    # Загружаем файл и сохраняем его\n",
    "    download_response = requests.get(download_url)\n",
    "    with open('project_2_goup_add.csv', 'wb') as f:   # Здесь - путь к файлу\n",
    "        f.write(download_response.content)\n",
    "    \n",
    "    # open previous result data and new data as a Data Frame\n",
    "    result_df = pd.read_csv('result_df.csv')\n",
    "    # start columns: student_id, grp, was_active, rev\n",
    "    groups_add_df = pd.read_csv('project_2_goup_add.csv', names=['student_id', 'grp', 'rev'])\n",
    "    # start columns: id, grp, rev, - but their exact names can be different\n",
    "    \n",
    "    # prepare data fot bootstrap\n",
    "    result_df.drop(columns=['was_active'])  # after that we have identical columns\n",
    "    result_df = pd.concat([result_df, groups_add_df], axis=0)  # and a general DataFrame with a new data\n",
    "    A_df = result_df.query('grp == \"A\"')  # control grp\n",
    "    B_df = result_df.query('grp == \"B\"')  # test grp\n",
    "    \n",
    "    # do bootstrap\n",
    "    # some init data for bootstrap\n",
    "    data_column_1 = B_df.rev,  # числовые значения первой выборки\n",
    "    data_column_2 = A_df.rev,  # числовые значения второй выборки\n",
    "    boot_it = 1000,  # количество бутстрэп-подвыборок\n",
    "    statistic = np.mean,  # интересующая нас статистика\n",
    "    bootstrap_conf_level = 0.95  # уровень значимости    \n",
    "    # bootstrap itself\n",
    "    boot_len = max([len(data_column_1), len(data_column_2)])\n",
    "    boot_data = []\n",
    "    for i in tqdm(range(boot_it)):  # извлекаем подвыборки\n",
    "        samples_1 = data_column_1.sample(\n",
    "            boot_len, \n",
    "            replace=True  # параметр возвращения\n",
    "        ).values\n",
    "        \n",
    "        samples_2 = data_column_2.sample(\n",
    "            boot_len, \n",
    "            replace=True\n",
    "        ).values\n",
    "\n",
    "        boot_data.append(statistic(samples_1 - samples_2))\n",
    "        # mean() - применяем статистику\n",
    "        \n",
    "    pd_boot_data = pd.DataFrame(boot_data)\n",
    "        \n",
    "    left_quant = (1 - bootstrap_conf_level) / 2\n",
    "    right_quant = 1 - (1 - bootstrap_conf_level) / 2\n",
    "    ci = pd_boot_data.quantile([left_quant, right_quant])\n",
    "        \n",
    "    p_1 = norm.cdf(\n",
    "        x=0, \n",
    "        loc=np.mean(boot_data), \n",
    "        scale=np.std(boot_data)\n",
    "    )\n",
    "    p_2 = norm.cdf(\n",
    "        x=0, \n",
    "        loc=-np.mean(boot_data), \n",
    "        scale=np.std(boot_data)\n",
    "    )\n",
    "    p_value = min(p_1, p_2) * 2\n",
    "        \n",
    "#         # Визуализация\n",
    "#     plt.hist(pd_boot_data[0], bins = 50)\n",
    "    \n",
    "#     plt.style.use('ggplot')\n",
    "#     plt.vlines(ci,ymin=0,ymax=50,linestyle='--')\n",
    "#     plt.xlabel('boot_data')\n",
    "#     plt.ylabel('frequency')\n",
    "#     plt.title(\"Histogram of boot_data\")\n",
    "#     plt.show()\n",
    "\n",
    "    if p_value < 0.05:\n",
    "        print('Контрольная и Тестовая группы, данные по которым обновлены, ',\n",
    "              'статистически значимо различаются./n')\n",
    "    else:\n",
    "        print('Контрольная и Тестовая группы, данные по которым обновлены, ',\n",
    "              'статистически НЕ различаются./n')\n",
    "       \n",
    "    return {\"boot_data\": boot_data, \n",
    "            \"ci\": ci, \n",
    "            \"p_value\": p_value}\n"
   ]
  },
  {
   "cell_type": "markdown",
   "metadata": {},
   "source": [
    "---"
   ]
  },
  {
   "cell_type": "markdown",
   "metadata": {},
   "source": [
    "---"
   ]
  },
  {
   "cell_type": "markdown",
   "metadata": {},
   "source": [
    "---"
   ]
  },
  {
   "cell_type": "markdown",
   "metadata": {},
   "source": [
    "**РАБОТА НАД ОШИБКАМИ в этом задании:**"
   ]
  },
  {
   "cell_type": "markdown",
   "metadata": {},
   "source": [
    "В замечании к выполнению этого задания Олег дал такую формулировку:\n",
    "\n",
    "\"Подгружается groups_add, который имеет ту же структуру, что и groups (айдишник и метка группы, столбца rev там нет и быть не должно)...\"."
   ]
  },
  {
   "cell_type": "markdown",
   "metadata": {},
   "source": [
    "Данные в groups и groups_add имеют следующую структуру:\n",
    "\n",
    "колонки: | {id ученика} | {группа: целевая/контрольная} |\n",
    "\n",
    "По этим данным что мог бы я посчитать, какие метрики посмотреть?\n",
    "- отношение количества учеников целевой группы ко всем ученикам? - Да, легко.\n",
    "- конверсию в покупку? - Нет, для этого мне пришлось бы \"смерджить\" эти данные (подгружаемые) с данными о revenue. Что я и реализовал в своем первоначальном напсании функции. Но данные о revenue, по замечанию Олега, подгружать не нужно. Значит, конверсию я не смогу посчитать.\n",
    "- ARPU/ARPPU? - Ну, точно не смогу посчитать. Для них нужна колока |{выручка}|, которую подгружать не нужно.\n",
    "- сделать bootstrap? - Но по какой колонке? По |{id ученика}| и |{группа: целевая/контрольная}| этого делать не имеет смысла."
   ]
  },
  {
   "cell_type": "markdown",
   "metadata": {},
   "source": [
    "Поэтому я считаю, что моя функция валидна и для текущего замечания. К тому же разные имена колонок я также учел, о чем свидетельствуют:\n",
    "- комментарий в группе \"# open previous result data and new data as a Data Frame\", который гласит: \"# start columns: id, grp, rev, - but their exact names can be different\";\n",
    "- манипуляции с данными посредством кода в блоке функции под комментарием \"# prepare data fot bootstrap\"."
   ]
  },
  {
   "cell_type": "markdown",
   "metadata": {},
   "source": [
    "Я бы очень хотел обсудить это задание при голосовом общении."
   ]
  },
  {
   "cell_type": "markdown",
   "metadata": {},
   "source": [
    "**КОНЕЦ РАБОТЫ НАД ОШБКАМИ в этом задании**"
   ]
  },
  {
   "cell_type": "markdown",
   "metadata": {},
   "source": [
    "---"
   ]
  },
  {
   "cell_type": "markdown",
   "metadata": {},
   "source": [
    "---"
   ]
  },
  {
   "cell_type": "markdown",
   "metadata": {},
   "source": [
    "---"
   ]
  },
  {
   "cell_type": "code",
   "execution_count": null,
   "metadata": {},
   "outputs": [],
   "source": []
  },
  {
   "cell_type": "code",
   "execution_count": null,
   "metadata": {},
   "outputs": [],
   "source": []
  },
  {
   "cell_type": "code",
   "execution_count": null,
   "metadata": {},
   "outputs": [],
   "source": []
  }
 ],
 "metadata": {
  "kernelspec": {
   "display_name": "Python 3 (ipykernel)",
   "language": "python",
   "name": "python3"
  },
  "language_info": {
   "codemirror_mode": {
    "name": "ipython",
    "version": 3
   },
   "file_extension": ".py",
   "mimetype": "text/x-python",
   "name": "python",
   "nbconvert_exporter": "python",
   "pygments_lexer": "ipython3",
   "version": "3.9.6"
  }
 },
 "nbformat": 4,
 "nbformat_minor": 4
}
